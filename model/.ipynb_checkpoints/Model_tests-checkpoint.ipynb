{
 "cells": [
  {
   "cell_type": "code",
   "execution_count": 4,
   "metadata": {},
   "outputs": [
    {
     "ename": "ModuleNotFoundError",
     "evalue": "No module named 'board_gui_service'",
     "output_type": "error",
     "traceback": [
      "\u001b[0;31m---------------------------------------------------------------------------\u001b[0m",
      "\u001b[0;31mModuleNotFoundError\u001b[0m                       Traceback (most recent call last)",
      "\u001b[0;32m<ipython-input-4-735cb98bb8e6>\u001b[0m in \u001b[0;36m<module>\u001b[0;34m\u001b[0m\n\u001b[1;32m      1\u001b[0m \u001b[0;32mimport\u001b[0m \u001b[0mnumpy\u001b[0m \u001b[0;32mas\u001b[0m \u001b[0mnp\u001b[0m\u001b[0;34m\u001b[0m\u001b[0;34m\u001b[0m\u001b[0m\n\u001b[1;32m      2\u001b[0m \u001b[0;32mfrom\u001b[0m \u001b[0mgame_state\u001b[0m \u001b[0;32mimport\u001b[0m \u001b[0;34m*\u001b[0m\u001b[0;34m\u001b[0m\u001b[0;34m\u001b[0m\u001b[0m\n\u001b[0;32m----> 3\u001b[0;31m \u001b[0;32mfrom\u001b[0m \u001b[0mboard_gui_service\u001b[0m \u001b[0;32mimport\u001b[0m \u001b[0;34m*\u001b[0m\u001b[0;34m\u001b[0m\u001b[0;34m\u001b[0m\u001b[0m\n\u001b[0m",
      "\u001b[0;31mModuleNotFoundError\u001b[0m: No module named 'board_gui_service'"
     ]
    }
   ],
   "source": [
    "import numpy as np\n",
    "from game_state import *\n",
    "from board_gui_service import *"
   ]
  },
  {
   "cell_type": "code",
   "execution_count": 11,
   "metadata": {},
   "outputs": [],
   "source": [
    "def empty_board():\n",
    "    board = np.zeros((48, 8), dtype=int)\n",
    "\n",
    "    # board[1::4, 0] = 2\n",
    "    # board[:5, :] = 2\n",
    "    # board[-5:, :] = 2\n",
    "\n",
    "    board[1::4, 0] = 1\n",
    "    board[:5, :] = 1\n",
    "    board[-5:, :] = 1\n",
    "\n",
    "    board[1:5, [3, 4]] = 0\n",
    "    board[-5:0, [3, 4]] = 0\n",
    "\n",
    "    return board"
   ]
  },
  {
   "cell_type": "code",
   "execution_count": 12,
   "metadata": {
    "scrolled": true
   },
   "outputs": [],
   "source": [
    "gs=GameState(empty_board(), 1, (6, 4))\n",
    "a=gs.get_full_moves()"
   ]
  },
  {
   "cell_type": "code",
   "execution_count": 13,
   "metadata": {},
   "outputs": [],
   "source": [
    "# gs.get_positions(3,22)"
   ]
  },
  {
   "cell_type": "code",
   "execution_count": 14,
   "metadata": {},
   "outputs": [
    {
     "data": {
      "text/plain": [
       "[([(22, 3)], (5, 3), 0),\n",
       " ([(21, 4)], (5, 4), 0),\n",
       " ([(24, 3)], (6, 3), 0),\n",
       " ([(26, 4)], (7, 5), 0),\n",
       " ([(25, 4)], (7, 4), 0),\n",
       " ([(24, 4)], (6, 5), 0),\n",
       " ([(27, 3)], (7, 3), 0),\n",
       " ([(23, 4)], (5, 5), 0)]"
      ]
     },
     "execution_count": 14,
     "metadata": {},
     "output_type": "execute_result"
    }
   ],
   "source": [
    "a"
   ]
  },
  {
   "cell_type": "code",
   "execution_count": 15,
   "metadata": {},
   "outputs": [
    {
     "data": {
      "text/plain": [
       "(0, 0)"
      ]
     },
     "execution_count": 15,
     "metadata": {},
     "output_type": "execute_result"
    }
   ],
   "source": [
    "gs.make_move(a[0])"
   ]
  },
  {
   "cell_type": "code",
   "execution_count": 16,
   "metadata": {},
   "outputs": [],
   "source": [
    "a=gs.get_full_moves()"
   ]
  },
  {
   "cell_type": "code",
   "execution_count": 17,
   "metadata": {},
   "outputs": [
    {
     "data": {
      "text/plain": [
       "[([(18, 2)], (4, 2), 0),\n",
       " ([(17, 3)], (4, 3), 0),\n",
       " ([(20, 2)], (5, 2), 0),\n",
       " ([(21, 3)], (6, 3), 0),\n",
       " ([(20, 3)], (5, 4), 0),\n",
       " ([(23, 2)], (6, 2), 0),\n",
       " ([(19, 3)], (4, 4), 0)]"
      ]
     },
     "execution_count": 17,
     "metadata": {},
     "output_type": "execute_result"
    }
   ],
   "source": [
    "a"
   ]
  },
  {
   "cell_type": "code",
   "execution_count": 18,
   "metadata": {},
   "outputs": [
    {
     "data": {
      "text/plain": [
       "(0, 0)"
      ]
     },
     "execution_count": 18,
     "metadata": {},
     "output_type": "execute_result"
    }
   ],
   "source": [
    "gs.make_move(a[4])"
   ]
  },
  {
   "cell_type": "code",
   "execution_count": 19,
   "metadata": {},
   "outputs": [],
   "source": [
    "a=gs.get_full_moves()"
   ]
  },
  {
   "cell_type": "code",
   "execution_count": 20,
   "metadata": {},
   "outputs": [
    {
     "data": {
      "text/plain": [
       "[([(18, 3)], (4, 3), 0),\n",
       " ([(17, 4)], (4, 4), 0),\n",
       " ([(22, 4)], (6, 5), 0),\n",
       " ([(21, 4), (24, 3)], (6, 3), 0),\n",
       " ([(21, 4), (26, 4)], (7, 5), 0),\n",
       " ([(21, 4), (25, 4)], (7, 4), 0),\n",
       " ([(21, 4), (24, 4)], (6, 5), 0),\n",
       " ([(21, 4), (27, 3)], (7, 3), 0),\n",
       " ([(21, 4), (23, 4)], (5, 5), 0),\n",
       " ([(20, 4)], (5, 5), 0),\n",
       " ([(23, 3)], (6, 3), 0),\n",
       " ([(19, 4)], (4, 5), 0)]"
      ]
     },
     "execution_count": 20,
     "metadata": {},
     "output_type": "execute_result"
    }
   ],
   "source": [
    "a"
   ]
  },
  {
   "cell_type": "code",
   "execution_count": null,
   "metadata": {},
   "outputs": [],
   "source": []
  }
 ],
 "metadata": {
  "kernelspec": {
   "display_name": "Python 3",
   "language": "python",
   "name": "python3"
  },
  "language_info": {
   "codemirror_mode": {
    "name": "ipython",
    "version": 3
   },
   "file_extension": ".py",
   "mimetype": "text/x-python",
   "name": "python",
   "nbconvert_exporter": "python",
   "pygments_lexer": "ipython3",
   "version": "3.7.3"
  }
 },
 "nbformat": 4,
 "nbformat_minor": 2
}
