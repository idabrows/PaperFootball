{
 "cells": [
  {
   "cell_type": "code",
   "execution_count": 1,
   "metadata": {},
   "outputs": [],
   "source": [
    "import numpy as np\n",
    "from model.game_state import *\n",
    "from view.board_gui_service import * "
   ]
  },
  {
   "cell_type": "code",
   "execution_count": 2,
   "metadata": {},
   "outputs": [],
   "source": [
    "def empty_board():\n",
    "    board = np.zeros((48, 8), dtype=int)\n",
    "\n",
    "    # board[1::4, 0] = 2\n",
    "    # board[:5, :] = 2\n",
    "    # board[-5:, :] = 2\n",
    "\n",
    "    board[1::4, 0] = 1\n",
    "    board[:5, :] = 1\n",
    "    board[-5:, :] = 1\n",
    "\n",
    "    board[1:5, [3, 4]] = 0\n",
    "    board[-5:0, [3, 4]] = 0\n",
    "\n",
    "    return board"
   ]
  },
  {
   "cell_type": "code",
   "execution_count": 21,
   "metadata": {
    "scrolled": true
   },
   "outputs": [
    {
     "data": {
      "text/plain": [
       "[(22, 3)]"
      ]
     },
     "execution_count": 21,
     "metadata": {},
     "output_type": "execute_result"
    }
   ],
   "source": [
    "gs=GameState(empty_board(), 1, (6, 4))\n",
    "a=gs.get_full_moves()\n",
    "a[0][0]"
   ]
  },
  {
   "cell_type": "code",
   "execution_count": 23,
   "metadata": {},
   "outputs": [
    {
     "data": {
      "text/plain": [
       "([5, 3], [6, 4])"
      ]
     },
     "execution_count": 23,
     "metadata": {},
     "output_type": "execute_result"
    }
   ],
   "source": [
    "BoardGuiService.get_positions(3, 22)"
   ]
  }
 ],
 "metadata": {
  "kernelspec": {
   "display_name": "Python 3",
   "language": "python",
   "name": "python3"
  },
  "language_info": {
   "codemirror_mode": {
    "name": "ipython",
    "version": 3
   },
   "file_extension": ".py",
   "mimetype": "text/x-python",
   "name": "python",
   "nbconvert_exporter": "python",
   "pygments_lexer": "ipython3",
   "version": "3.7.3"
  }
 },
 "nbformat": 4,
 "nbformat_minor": 2
}
